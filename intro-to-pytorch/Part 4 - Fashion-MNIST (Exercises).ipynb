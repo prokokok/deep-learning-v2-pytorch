{
 "cells": [
  {
   "cell_type": "markdown",
   "metadata": {},
   "source": [
    "# Classifying Fashion-MNIST\n",
    "\n",
    "Now it's your turn to build and train a neural network. You'll be using the [Fashion-MNIST dataset](https://github.com/zalandoresearch/fashion-mnist), a drop-in replacement for the MNIST dataset. MNIST is actually quite trivial with neural networks where you can easily achieve better than 97% accuracy. Fashion-MNIST is a set of 28x28 greyscale images of clothes. It's more complex than MNIST, so it's a better representation of the actual performance of your network, and a better representation of datasets you'll use in the real world.\n",
    "\n",
    "<img src='assets/fashion-mnist-sprite.png' width=500px>\n",
    "\n",
    "In this notebook, you'll build your own neural network. For the most part, you could just copy and paste the code from Part 3, but you wouldn't be learning. It's important for you to write the code yourself and get it to work. Feel free to consult the previous notebooks though as you work through this.\n",
    "\n",
    "First off, let's load the dataset through torchvision."
   ]
  },
  {
   "cell_type": "code",
   "execution_count": 1,
   "metadata": {},
   "outputs": [],
   "source": [
    "import torch\n",
    "from torchvision import datasets, transforms\n",
    "import helper\n",
    "\n",
    "# Define a transform to normalize the data\n",
    "transform = transforms.Compose([transforms.ToTensor(),\n",
    "                                transforms.Normalize((0.5,), (0.5,))])\n",
    "# Download and load the training data\n",
    "trainset = datasets.FashionMNIST('~/.pytorch/F_MNIST_data/', download=True, train=True, transform=transform)\n",
    "trainloader = torch.utils.data.DataLoader(trainset, batch_size=64, shuffle=True)\n",
    "\n",
    "# Download and load the test data\n",
    "testset = datasets.FashionMNIST('~/.pytorch/F_MNIST_data/', download=True, train=False, transform=transform)\n",
    "testloader = torch.utils.data.DataLoader(testset, batch_size=64, shuffle=True)"
   ]
  },
  {
   "cell_type": "markdown",
   "metadata": {},
   "source": [
    "Here we can see one of the images."
   ]
  },
  {
   "cell_type": "code",
   "execution_count": 2,
   "metadata": {},
   "outputs": [
    {
     "data": {
      "image/png": "[encoded data removed]",
      "text/plain": [
       "<Figure size 432x288 with 1 Axes>"
      ]
     },
     "metadata": {
      "needs_background": "light"
     },
     "output_type": "display_data"
    }
   ],
   "source": [
    "image, label = next(iter(trainloader))\n",
    "helper.imshow(image[0,:]);"
   ]
  },
  {
   "cell_type": "markdown",
   "metadata": {},
   "source": [
    "## Building the network\n",
    "\n",
    "Here you should define your network. As with MNIST, each image is 28x28 which is a total of 784 pixels, and there are 10 classes. You should include at least one hidden layer. We suggest you use ReLU activations for the layers and to return the logits or log-softmax from the forward pass. It's up to you how many layers you add and the size of those layers."
   ]
  },
  {
   "cell_type": "code",
   "execution_count": 3,
   "metadata": {},
   "outputs": [],
   "source": [
    "# TODO: Define your network architecture here\n",
    "from torch import nn\n",
    "import torch.nn.functional as F\n",
    "from torch import optim\n",
    "\n",
    "from collections import OrderedDict\n",
    "\n",
    "# Step1 Build Model (Class)\n",
    "\n",
    "input_dim = 784\n",
    "hidden_layers = [256,128,64]\n",
    "output_dim = 10\n",
    "\n",
    "class Classifier1(nn.Module):\n",
    "    def __init__(self):\n",
    "        super().__init__()\n",
    "        \n",
    "        self.fc1 = nn.Linear(input_dim, hidden_layers[0])\n",
    "        self.fc2 = nn.Linear(hidden_layers[0], hidden_layers[1])\n",
    "        self.fc3 = nn.Linear(hidden_layers[1], hidden_layers[2])\n",
    "        self.fc4 = nn.Linear(hidden_layers[2], output_dim)\n",
    "    \n",
    "    def forward(self, x):\n",
    "        x = F.relu(self.fc1(x))\n",
    "        x = F.relu(self.fc2(x))\n",
    "        x = F.relu(self.fc3(x))\n",
    "        x = nn.LogSoftmax(dim = 1)(x)\n",
    "        return x\n",
    "\n",
    "clasifier1 = Classifier1()\n",
    "\n",
    "       \n"
   ]
  },
  {
   "cell_type": "markdown",
   "metadata": {},
   "source": [
    "# Train the network\n",
    "\n",
    "Now you should create your network and train it. First you'll want to define [the criterion](http://pytorch.org/docs/master/nn.html#loss-functions) ( something like `nn.CrossEntropyLoss`) and [the optimizer](http://pytorch.org/docs/master/optim.html) (typically `optim.SGD` or `optim.Adam`).\n",
    "\n",
    "Then write the training code. Remember the training pass is a fairly straightforward process:\n",
    "\n",
    "* Make a forward pass through the network to get the logits \n",
    "* Use the logits to calculate the loss\n",
    "* Perform a backward pass through the network with `loss.backward()` to calculate the gradients\n",
    "* Take a step with the optimizer to update the weights\n",
    "\n",
    "By adjusting the hyperparameters (hidden units, learning rate, etc), you should be able to get the training loss below 0.4."
   ]
  },
  {
   "cell_type": "code",
   "execution_count": 4,
   "metadata": {},
   "outputs": [],
   "source": [
    "# TODO: Create the network, define the criterion and optimizer\n",
    "\n",
    "# Step2 Set the loss function\n",
    "criterion = nn.NLLLoss()\n",
    "\n",
    "# Step3 Set the Optimizer\n",
    "optimzer = optim.SGD(clasifier1.parameters(), lr = 0.003)\n"
   ]
  },
  {
   "cell_type": "code",
   "execution_count": 5,
   "metadata": {},
   "outputs": [
    {
     "name": "stdout",
     "output_type": "stream",
     "text": [
      "Training loss: 2.727117683460463\n",
      "Training loss: 1.2359002517230475\n",
      "Training loss: 0.6815920721556841\n",
      "Training loss: 0.6079103471055977\n",
      "Training loss: 0.5647841338028532\n"
     ]
    }
   ],
   "source": [
    "# TODO: Train the network here\n",
    "\n",
    "# Step4 Training \n",
    "epochs = 5\n",
    "for e in range(epochs):\n",
    "    running_loss = 0\n",
    "    for images, labels in trainloader:\n",
    "        # Flatten the images\n",
    "        images = images.view(images.shape[0],-1)\n",
    "        \n",
    "        # Step4-1 Initializing optimizer\n",
    "        optimzer.zero_grad()\n",
    "        \n",
    "        # Step4-2 Get the Prediction\n",
    "        output = clasifier1(images)\n",
    "        \n",
    "        # Step4-3 Calculate the loss\n",
    "        loss = criterion(output, labels)\n",
    "        \n",
    "        # Step4-4 Backwards the loss\n",
    "        loss.backward()\n",
    "        \n",
    "        # Step4-5 Update Gradient\n",
    "        optimzer.step()\n",
    "        \n",
    "        running_loss += loss.item()\n",
    "    else:\n",
    "        print(f\"Training loss: {running_loss/len(trainloader)}\")\n",
    "        \n",
    " "
   ]
  },
  {
   "cell_type": "code",
   "execution_count": 7,
   "metadata": {},
   "outputs": [
    {
     "data": {
      "image/png": "[encoded data removed]",
      "text/plain": [
       "<Figure size 432x648 with 2 Axes>"
      ]
     },
     "metadata": {
      "image/png": {
       "height": 206,
       "width": 423
      },
      "needs_background": "light"
     },
     "output_type": "display_data"
    }
   ],
   "source": [
    "%matplotlib inline\n",
    "%config InlineBackend.figure_format = 'retina'\n",
    "\n",
    "import helper\n",
    "\n",
    "# Test out your network!\n",
    "\n",
    "dataiter = iter(testloader)\n",
    "images, labels = dataiter.next()\n",
    "img = images[0]\n",
    "# Convert 2D image to 1D vector\n",
    "img = img.resize_(1, 784)\n",
    "\n",
    "# TODO: Calculate the class probabilities (softmax) for img\n",
    "ps = torch.exp(clasifier1(img))\n",
    "\n",
    "# Plot the image and probabilities\n",
    "helper.view_classify(img.resize_(1, 28, 28), ps, version='Fashion')"
   ]
  },
  {
   "cell_type": "code",
   "execution_count": null,
   "metadata": {},
   "outputs": [],
   "source": [
    "from torch import nn\n",
    "import torch.nn.functional as F\n",
    "from torch import optim\n",
    "\n",
    "from collections import OrderedDict"
   ]
  },
  {
   "cell_type": "code",
   "execution_count": 23,
   "metadata": {},
   "outputs": [
    {
     "name": "stdout",
     "output_type": "stream",
     "text": [
      "Training loss: 2.142662111375886\n",
      "Training loss: 1.2939008245590145\n",
      "Training loss: 0.8230158046110353\n",
      "Training loss: 0.6818011146364436\n",
      "Training loss: 0.6228013951450523\n"
     ]
    }
   ],
   "source": [
    "# Building Model with class\n",
    "\n",
    "# Step1 Build Model (Class)\n",
    "\n",
    "input_dim = 784\n",
    "hidden_layers = [256,128,64]\n",
    "output_dim = 10\n",
    "\n",
    "# Class 는 nn.Module, nn.functionals 둘다 가능\n",
    "class Classifier1(nn.Module):\n",
    "    def __init__(self):\n",
    "        super().__init__()\n",
    "        \n",
    "        self.fc1 = nn.Linear(input_dim, hidden_layers[0])\n",
    "        self.fc2 = nn.Linear(hidden_layers[0], hidden_layers[1])\n",
    "        self.fc3 = nn.Linear(hidden_layers[1], hidden_layers[2])\n",
    "        self.fc4 = nn.Linear(hidden_layers[2], output_dim)\n",
    "    \n",
    "    def forward(self, x):\n",
    "        x = F.relu(self.fc1(x))\n",
    "        x = F.relu(self.fc2(x))\n",
    "        x = F.relu(self.fc3(x))\n",
    "        \n",
    "        x = F.log_softmax(self.fc4(x), dim=1)\n",
    "        # x = nn.LogSoftmax(dim = 1)(self.fc4(x))\n",
    "        return x\n",
    "\n",
    "# Without torch.nn.functional\n",
    "# class Classifier1(nn.Module):\n",
    "#     def __init__(self):\n",
    "#         super().__init__()\n",
    "        \n",
    "#         # layers\n",
    "#         self.fc1 = nn.Linear(input_dim, hidden_layers[0])\n",
    "#         self.fc2 = nn.Linear(hidden_layers[0], hidden_layers[1])\n",
    "#         self.fc3 = nn.Linear(hidden_layers[1], hidden_layers[2])\n",
    "#         self.fc4 = nn.Linear(hidden_layers[2], output_dim)\n",
    "        \n",
    "#         # activations\n",
    "#         self.act1 = nn.ReLU()\n",
    "#         self.act2 = nn.ReLU()\n",
    "#         self.act3 = nn.ReLU()\n",
    "#         self.act4 = nn.LogSoftmax(dim = 1)\n",
    "    \n",
    "#     def forward(self, x):\n",
    "#         x = self.act1(self.fc1(x))\n",
    "#         x = self.act2(self.fc2(x))\n",
    "#         x = self.act3(self.fc3(x))\n",
    "#         x = self.act4(self.fc4(x))\n",
    "#         return x\n",
    "\n",
    "clasifier1 = Classifier1()\n",
    "\n",
    "\n",
    "# Step2 Set the loss function\n",
    "criterion = nn.NLLLoss()\n",
    "\n",
    "# Step3 Set the Optimizer\n",
    "optimzer = optim.SGD(clasifier1.parameters(), lr = 0.003)\n",
    "\n",
    "# Step4 Training \n",
    "epochs = 5\n",
    "for e in range(epochs):\n",
    "    running_loss = 0\n",
    "    for images, labels in trainloader:\n",
    "        # Flatten the images\n",
    "        images = images.view(images.shape[0],-1)\n",
    "        \n",
    "        # Step4-1 Initializing optimizer\n",
    "        optimzer.zero_grad()\n",
    "        \n",
    "        # Step4-2 Get the Prediction\n",
    "        output = clasifier1(images)\n",
    "        \n",
    "        # Step4-3 Calculate the loss\n",
    "        loss = criterion(output, labels)\n",
    "        \n",
    "        # Step4-4 Backwards the loss\n",
    "        loss.backward()\n",
    "        \n",
    "        # Step4-5 Update Gradient\n",
    "        optimzer.step()\n",
    "        \n",
    "        running_loss += loss.item()\n",
    "    else:\n",
    "        print(f\"Training loss: {running_loss/len(trainloader)}\")\n",
    "        \n",
    "        "
   ]
  },
  {
   "cell_type": "code",
   "execution_count": 8,
   "metadata": {},
   "outputs": [
    {
     "data": {
      "image/png": "[encoded data removed]",
      "text/plain": [
       "<Figure size 432x648 with 2 Axes>"
      ]
     },
     "metadata": {
      "image/png": {
       "height": 206,
       "width": 423
      },
      "needs_background": "light"
     },
     "output_type": "display_data"
    }
   ],
   "source": [
    "%matplotlib inline\n",
    "%config InlineBackend.figure_format = 'retina'\n",
    "\n",
    "import helper\n",
    "\n",
    "# Test out your network!\n",
    "\n",
    "dataiter = iter(testloader)\n",
    "images, labels = dataiter.next()\n",
    "img = images[0]\n",
    "# Convert 2D image to 1D vector\n",
    "img = img.resize_(1, 784)\n",
    "\n",
    "# TODO: Calculate the class probabilities (softmax) for img\n",
    "ps = torch.exp(clasifier1(img))\n",
    "\n",
    "# Plot the image and probabilities\n",
    "helper.view_classify(img.resize_(1, 28, 28), ps, version='Fashion')"
   ]
  },
  {
   "cell_type": "code",
   "execution_count": 24,
   "metadata": {},
   "outputs": [],
   "source": [
    "from torch import nn\n",
    "import torch.nn.functional as F\n",
    "from torch import optim\n",
    "\n",
    "from collections import OrderedDict"
   ]
  },
  {
   "cell_type": "code",
   "execution_count": 25,
   "metadata": {},
   "outputs": [
    {
     "data": {
      "text/plain": [
       "Sequential(\n",
       "  (fc1): Linear(in_features=784, out_features=256, bias=True)\n",
       "  (act1): ReLU()\n",
       "  (fc2): Linear(in_features=256, out_features=128, bias=True)\n",
       "  (act2): ReLU()\n",
       "  (fc3): Linear(in_features=128, out_features=64, bias=True)\n",
       "  (act3): ReLU()\n",
       "  (fc4): Linear(in_features=64, out_features=10, bias=True)\n",
       "  (act4): ReLU()\n",
       "  (softmax): LogSoftmax()\n",
       ")"
      ]
     },
     "execution_count": 25,
     "metadata": {},
     "output_type": "execute_result"
    }
   ],
   "source": [
    "# Step1 Build Model (Sequential)\n",
    "\n",
    "input_dim = 784\n",
    "hidden_layers = [256,128,64]\n",
    "output_dim = 10\n",
    "\n",
    "# You can’t add F.relu in a nn.Sequential, as it expects an object that is inherited from nn.Module.\n",
    "\n",
    "# Sequential 은 nn.Module만 가능\n",
    "classifier2 = nn.Sequential(OrderedDict([\n",
    "    ('fc1',nn.Linear(input_dim, hidden_layers[0])),\n",
    "    ('act1',nn.ReLU()),\n",
    "    ('fc2', nn.Linear(hidden_layers[0], hidden_layers[1])),\n",
    "    ('act2',nn.ReLU()),\n",
    "    ('fc3', nn.Linear(hidden_layers[1], hidden_layers[2])),\n",
    "    ('act3',nn.ReLU()),\n",
    "    ('fc4', nn.Linear(hidden_layers[2], output_dim)),\n",
    "    ('act4',nn.ReLU()),\n",
    "    ('softmax', nn.LogSoftmax(dim = 1))\n",
    "]))\n",
    "\n",
    "classifier2"
   ]
  },
  {
   "cell_type": "code",
   "execution_count": 26,
   "metadata": {},
   "outputs": [],
   "source": [
    "# Step 2 set up loss\n",
    "criterion2 = nn.NLLLoss()\n",
    "\n",
    "# Step 3 set up optimizer\n",
    "optimizer2 = optim.SGD(classifier2.parameters(), lr = 0.003)\n"
   ]
  },
  {
   "cell_type": "code",
   "execution_count": 27,
   "metadata": {},
   "outputs": [
    {
     "name": "stdout",
     "output_type": "stream",
     "text": [
      "Training loss: 2.1863570106563284\n",
      "Training loss: 1.588087020906558\n",
      "Training loss: 1.1678468682872716\n",
      "Training loss: 1.0132520810754568\n",
      "Training loss: 0.9532774065349148\n"
     ]
    }
   ],
   "source": [
    "# Step4 Training\n",
    "epochs = 5\n",
    "\n",
    "for epoch in range(epochs):\n",
    "    runing_loss = 0\n",
    "    for images, labels in trainloader:\n",
    "        # Change input shape if needed\n",
    "        images = images.view(images.shape[0], -1)\n",
    "        \n",
    "        # Step4-1 Initializing Optim\n",
    "        optimizer2.zero_grad()\n",
    "        \n",
    "        # Step4-2 Get prediction\n",
    "        outputs = classifier2(images)\n",
    "        \n",
    "        # Step4-3 Calculate Loss\n",
    "        loss = criterion2(outputs, labels)\n",
    "        \n",
    "        # Step4-4 Backwards the Loss\n",
    "        loss.backward()\n",
    "        \n",
    "        # Step4-5 update the gradient\n",
    "        optimizer2.step()\n",
    "        \n",
    "        runing_loss += loss.item()\n",
    "    else:\n",
    "        print(f\"Training loss: {runing_loss/len(trainloader)}\")"
   ]
  },
  {
   "cell_type": "code",
   "execution_count": 28,
   "metadata": {},
   "outputs": [
    {
     "data": {
      "image/png": "[encoded data removed]",
      "text/plain": [
       "<Figure size 432x648 with 2 Axes>"
      ]
     },
     "metadata": {
      "image/png": {
       "height": 206,
       "width": 423
      },
      "needs_background": "light"
     },
     "output_type": "display_data"
    }
   ],
   "source": [
    "%matplotlib inline\n",
    "%config InlineBackend.figure_format = 'retina'\n",
    "\n",
    "import helper\n",
    "\n",
    "# Test out your network!\n",
    "\n",
    "dataiter = iter(testloader)\n",
    "images, labels = dataiter.next()\n",
    "img = images[0]\n",
    "# Convert 2D image to 1D vector\n",
    "img = img.resize_(1, 784)\n",
    "\n",
    "# TODO: Calculate the class probabilities (softmax) for img\n",
    "ps = torch.exp(clasifier1(img))\n",
    "\n",
    "# Plot the image and probabilities\n",
    "helper.view_classify(img.resize_(1, 28, 28), ps, version='Fashion')"
   ]
  },
  {
   "cell_type": "code",
   "execution_count": null,
   "metadata": {},
   "outputs": [],
   "source": []
  }
 ],
 "metadata": {
  "kernelspec": {
   "display_name": "Python 3",
   "language": "python",
   "name": "python3"
  },
  "language_info": {
   "codemirror_mode": {
    "name": "ipython",
    "version": 3
   },
   "file_extension": ".py",
   "mimetype": "text/x-python",
   "name": "python",
   "nbconvert_exporter": "python",
   "pygments_lexer": "ipython3",
   "version": "3.6.8"
  }
 },
 "nbformat": 4,
 "nbformat_minor": 2
}
