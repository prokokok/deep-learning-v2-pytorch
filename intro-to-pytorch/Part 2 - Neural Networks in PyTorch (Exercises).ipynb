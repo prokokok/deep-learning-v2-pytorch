{
 "cells": [
  {
   "cell_type": "markdown",
   "metadata": {},
   "source": [
    "# Neural networks with PyTorch\n",
    "\n",
    "Deep learning networks tend to be massive with dozens or hundreds of layers, that's where the term \"deep\" comes from. You can build one of these deep networks using only weight matrices as we did in the previous notebook, but in general it's very cumbersome and difficult to implement. PyTorch has a nice module `nn` that provides a nice way to efficiently build large neural networks."
   ]
  },
  {
   "cell_type": "code",
   "execution_count": 23,
   "metadata": {},
   "outputs": [],
   "source": [
    "# Import necessary packages\n",
    "\n",
    "%matplotlib inline\n",
    "%config InlineBackend.figure_format = 'retina'\n",
    "\n",
    "import numpy as np\n",
    "import torch\n",
    "\n",
    "import helper\n",
    "\n",
    "import matplotlib.pyplot as plt"
   ]
  },
  {
   "cell_type": "markdown",
   "metadata": {},
   "source": [
    "\n",
    "Now we're going to build a larger network that can solve a (formerly) difficult problem, identifying text in an image. Here we'll use the MNIST dataset which consists of greyscale handwritten digits. Each image is 28x28 pixels, you can see a sample below\n",
    "\n",
    "<img src='assets/mnist.png'>\n",
    "\n",
    "Our goal is to build a neural network that can take one of these images and predict the digit in the image.\n",
    "\n",
    "First up, we need to get our dataset. This is provided through the `torchvision` package. The code below will download the MNIST dataset, then create training and test datasets for us. Don't worry too much about the details here, you'll learn more about this later."
   ]
  },
  {
   "cell_type": "code",
   "execution_count": 24,
   "metadata": {},
   "outputs": [],
   "source": [
    "### Run this cell\n",
    "\n",
    "from torchvision import datasets, transforms\n",
    "\n",
    "# Define a transform to normalize the data\n",
    "transform = transforms.Compose([transforms.ToTensor(),\n",
    "                              transforms.Normalize((0.5,), (0.5,)),\n",
    "                              ])\n",
    "\n",
    "# Download and load the training data\n",
    "trainset = datasets.MNIST('~/.pytorch/MNIST_data/', download=True, train=True, transform=transform)\n",
    "trainloader = torch.utils.data.DataLoader(trainset, batch_size=64, shuffle=True)"
   ]
  },
  {
   "cell_type": "markdown",
   "metadata": {},
   "source": [
    "We have the training data loaded into `trainloader` and we make that an iterator with `iter(trainloader)`. Later, we'll use this to loop through the dataset for training, like\n",
    "\n",
    "```python\n",
    "for image, label in trainloader:\n",
    "    ## do things with images and labels\n",
    "```\n",
    "\n",
    "You'll notice I created the `trainloader` with a batch size of 64, and `shuffle=True`. The batch size is the number of images we get in one iteration from the data loader and pass through our network, often called a *batch*. And `shuffle=True` tells it to shuffle the dataset every time we start going through the data loader again. But here I'm just grabbing the first batch so we can check out the data. We can see below that `images` is just a tensor with size `(64, 1, 28, 28)`. So, 64 images per batch, 1 color channel, and 28x28 images."
   ]
  },
  {
   "cell_type": "code",
   "execution_count": 25,
   "metadata": {},
   "outputs": [
    {
     "name": "stdout",
     "output_type": "stream",
     "text": [
      "<class 'torch.Tensor'>\n",
      "torch.Size([64, 1, 28, 28])\n",
      "torch.Size([64])\n"
     ]
    }
   ],
   "source": [
    "dataiter = iter(trainloader)\n",
    "images, labels = dataiter.next()\n",
    "print(type(images))\n",
    "print(images.shape)\n",
    "print(labels.shape)"
   ]
  },
  {
   "cell_type": "markdown",
   "metadata": {},
   "source": [
    "This is what one of the images looks like. "
   ]
  },
  {
   "cell_type": "code",
   "execution_count": 26,
   "metadata": {},
   "outputs": [
    {
     "data": {
      "image/png": "[encoded data removed]",
      "text/plain": [
       "<Figure size 432x288 with 1 Axes>"
      ]
     },
     "metadata": {
      "image/png": {
       "height": 250,
       "width": 253
      },
      "needs_background": "light"
     },
     "output_type": "display_data"
    }
   ],
   "source": [
    "plt.imshow(images[1].numpy().squeeze(), cmap='Greys_r');"
   ]
  },
  {
   "cell_type": "markdown",
   "metadata": {},
   "source": [
    "First, let's try to build a simple network for this dataset using weight matrices and matrix multiplications. Then, we'll see how to do it using PyTorch's `nn` module which provides a much more convenient and powerful method for defining network architectures.\n",
    "\n",
    "The networks you've seen so far are called *fully-connected* or *dense* networks. Each unit in one layer is connected to each unit in the next layer. In fully-connected networks, the input to each layer must be a one-dimensional vector (which can be stacked into a 2D tensor as a batch of multiple examples). However, our images are 28x28 2D tensors, so we need to convert them into 1D vectors. Thinking about sizes, we need to convert the batch of images with shape `(64, 1, 28, 28)` to a have a shape of `(64, 784)`, 784 is 28 times 28. This is typically called *flattening*, we flattened the 2D images into 1D vectors.\n",
    "\n",
    "Previously you built a network with one output unit. Here we need 10 output units, one for each digit. We want our network to predict the digit shown in an image, so what we'll do is calculate probabilities that the image is of any one digit or class. This ends up being a discrete probability distribution over the classes (digits) that tells us the most likely class for the image. That means we need 10 output units for the 10 classes (digits). We'll see how to convert the network output into a probability distribution next.\n",
    "\n",
    "> **Exercise:** Flatten the batch of images `images`. Then build a multi-layer network with 784 input units, 256 hidden units, and 10 output units using random tensors for the weights and biases. For now, use a sigmoid activation for the hidden layer. Leave the output layer without an activation, we'll add one that gives us a probability distribution next."
   ]
  },
  {
   "cell_type": "code",
   "execution_count": 7,
   "metadata": {},
   "outputs": [
    {
     "name": "stdout",
     "output_type": "stream",
     "text": [
      "out shape : torch.Size([64, 10])\n",
      "tensor([[ -3.6419,  13.5820,  22.3345,  12.4911,   4.4816, -10.1018, -16.1632,\n",
      "          20.6097,  -7.1246,  -8.9164],\n",
      "        [  3.7275,  12.6177,  30.0056,  13.2995,  -0.9504,  -2.7166, -10.5379,\n",
      "          19.7141, -14.5788,  -5.9874],\n",
      "        [ 14.8445,  13.0395,  17.6584,  12.7556,   4.2034,  -5.0373, -20.0296,\n",
      "          16.8252,  -1.4749,  -5.3740],\n",
      "        [  3.3706,   7.0276,  28.8128,  23.8025,  -0.4141,  -4.5636, -15.6353,\n",
      "          22.8262,  -4.4354,  -6.1948],\n",
      "        [ 14.5042,   2.6586,  34.2540,  22.1048,   4.5487, -12.6281, -13.7495,\n",
      "          19.1051,  -2.2198, -10.5241],\n",
      "        [  5.2529,   5.3058,  20.9631,  26.2750,  10.2759,  -9.7343, -21.0899,\n",
      "          16.1248,   2.5103, -15.0599],\n",
      "        [ 10.1567,   9.9691,  21.0342,  15.2499,  -0.0571,  -2.4755, -15.1110,\n",
      "          22.2820,   2.6652,  -7.2072],\n",
      "        [  1.7573,  12.6497,  35.7294,  27.1696,  -4.8800,  -4.0636, -22.7109,\n",
      "          26.1296,  -6.7075,  -7.6852],\n",
      "        [  7.5163,  12.0136,  35.6518,  20.7289,  -5.9839,   1.6546, -20.6513,\n",
      "          12.9809,  -5.6959,  -9.3875],\n",
      "        [ -7.2600,  12.5403,  30.1449,  18.9251,   2.1821,  -6.5626, -14.2125,\n",
      "          17.4577,   0.2889,  -9.6745],\n",
      "        [ -8.3854,   8.1640,  28.3047,  21.5694,  -3.0186,  -3.2164, -17.4763,\n",
      "          21.1865,  -8.2227,  -5.1211],\n",
      "        [  6.8289,   1.3829,  34.6110,  16.5466,   0.1836,  -3.9289,  -9.0848,\n",
      "          14.3452,  -2.5492,  -6.4696],\n",
      "        [ -0.3794,  11.0514,  34.5244,  19.8602,  -0.9016,  -1.3027, -23.0862,\n",
      "          18.3493, -10.8977,  -3.8546],\n",
      "        [  5.5784,   3.9200,  26.6386,  20.5185,  -1.6051,  -8.1831, -20.9203,\n",
      "          19.0535,   0.4259,  -4.0995],\n",
      "        [  2.6547,  19.0553,  24.7060,  24.5571,   1.3627, -10.6956, -17.0508,\n",
      "          24.2017,  -3.6806,  -7.8440],\n",
      "        [ -4.1734,  21.5874,  22.1546,  13.8731,  13.0537,  -7.2529, -19.8210,\n",
      "          23.3439,  -1.6898,  -9.2178],\n",
      "        [  6.6158,  14.9869,  33.5771,  18.7343,   3.1372,  -1.8398, -23.9177,\n",
      "          16.1347,   4.2103,  -6.9884],\n",
      "        [  1.1952,  12.2140,  29.6980,  17.3810,   3.9728,  -9.3630, -21.4545,\n",
      "          22.1263,  -4.8994, -10.1738],\n",
      "        [ 11.8513,   5.9590,  22.1425,   7.7445,   8.4857,  -9.8606, -14.2553,\n",
      "          16.6920,   0.7839, -10.5181],\n",
      "        [ -9.1591,   5.2514,  25.8292,  16.5388,  -1.5357,  -5.8087, -25.5110,\n",
      "          20.7625,   5.2092, -10.7975],\n",
      "        [  6.7822,   4.8926,  32.9693,  10.5415,   6.8003,  -2.8864, -23.1752,\n",
      "          18.6151, -13.1494,  -2.7426],\n",
      "        [  8.1110,   5.0815,  26.9085,  21.0278,   0.6854,   2.2833, -12.4052,\n",
      "          25.9900,  -7.8656,  -2.9795],\n",
      "        [  3.3565,  12.7867,  24.3323,  18.3355,   2.5128,  -6.9635,  -9.6752,\n",
      "          26.6020, -10.2958,  -3.2200],\n",
      "        [  5.7330,   7.2536,  33.5617,  17.4766,   0.2866,  -2.6044, -24.3529,\n",
      "          20.5649,  -5.8551, -11.7998],\n",
      "        [ -6.4734,   2.5618,  17.8433,  14.8591,   0.5880, -11.3297, -22.0166,\n",
      "          19.8412,   1.4123,  -7.7632],\n",
      "        [ -3.1162,  17.5960,  19.0321,  16.8055,   4.7076,  -8.9358, -23.0905,\n",
      "          21.3730,  -0.2285,  -9.8959],\n",
      "        [  7.8371,  12.4731,  33.1774,  16.1181,   0.3063,  -8.4587, -14.5625,\n",
      "          14.1415,  -6.2554, -16.0894],\n",
      "        [ -3.1071,  17.4633,  28.2342,  18.0518,   1.6132,  -5.0375, -17.9649,\n",
      "          23.4800,  -1.6165, -15.5644],\n",
      "        [  6.3274,   6.8588,  30.9645,  19.0977,  -7.7387,  -1.1827, -19.6951,\n",
      "          17.8417,  -1.7033, -13.0713],\n",
      "        [  8.4256,  12.1445,  23.0191,  15.4613,   0.9977,  -2.2466, -24.1529,\n",
      "          24.7276,  -4.2482,  -6.1905],\n",
      "        [  7.5334,  -1.1585,  39.4003,  27.0968,  -3.5890,   7.7138, -12.7625,\n",
      "          23.2704,  -3.3992,  -4.4666],\n",
      "        [ -5.8257,   8.1292,  27.7446,  21.9082,  -3.0194,  -4.7824, -22.4723,\n",
      "          25.2545,  -0.3602, -13.2724],\n",
      "        [ -0.3506,  13.2097,  28.0284,  16.3077,  -1.6619, -13.6990, -20.6600,\n",
      "          17.1099,  -5.7464,  -2.1881],\n",
      "        [  6.2411,   9.4831,  24.8105,  21.2234,  -1.0599,   3.7394, -21.9142,\n",
      "          32.9563,  -5.4241,  -9.8063],\n",
      "        [  2.5093,   0.6577,  23.5650,  18.2894,   0.4018,  -8.3851, -17.8375,\n",
      "          12.3747,  -4.3435, -11.8157],\n",
      "        [  6.8914,   0.4825,  32.1351,  27.2032,  -2.8196,  -1.8988, -20.6960,\n",
      "          26.1428,  -4.6571,   0.2970],\n",
      "        [ -5.6935,   4.1786,  28.1113,  12.7282,   3.5544, -10.1024, -11.1183,\n",
      "          15.8061,  -6.3020,  -5.7224],\n",
      "        [  2.6250,   4.7713,  19.9114,  18.8555,   7.2436, -10.6061, -14.2180,\n",
      "          10.7759,  -3.2904, -13.6876],\n",
      "        [  3.8729,   0.2198,  26.8416,  19.5372,   3.0969,  -9.5596, -14.1599,\n",
      "          28.5040,  -5.3012,  -8.7719],\n",
      "        [  1.5664,  10.2992,  28.2675,  19.2908,   5.0774,  -1.9741, -13.5015,\n",
      "          22.2409,  -8.0817, -12.6355],\n",
      "        [  6.5371,   4.7374,  32.8320,  18.9018,   8.3402,  -6.9971, -19.9238,\n",
      "           6.1533,  -8.7906,  -6.4645],\n",
      "        [  5.3321,   9.9406,  39.7188,  23.0839,   3.8334,   5.1218, -20.4868,\n",
      "          24.0451,  -4.6493,  -4.7950],\n",
      "        [ -0.2563,  11.3114,  25.2820,  15.6029,   4.8553,  -5.1647, -19.9455,\n",
      "          16.4800,  -5.9821,  -4.1168],\n",
      "        [ -9.3654,   9.8988,  21.2232,  21.2634,   4.2046,  -4.3748, -16.4472,\n",
      "          23.0800,   5.2766, -15.8305],\n",
      "        [ -2.8920,  15.6045,  16.8858,  17.2409,   4.4696,  -9.8690, -13.7602,\n",
      "          22.4064,  -0.1425,  -8.9564],\n",
      "        [ -4.3702,   8.2102,  22.1732,  22.4831,   3.8000,  -2.9514, -22.3073,\n",
      "          21.9347,   5.6652, -16.1322],\n",
      "        [ -0.0517,  10.7081,  29.9440,  13.2975,  -7.4626,  -1.4908, -24.6359,\n",
      "          18.8834, -12.5693,  -2.1891],\n",
      "        [  0.3621,  15.5027,  26.7999,  13.6185,  -4.2935,  -6.8660, -31.0318,\n",
      "          24.7888,  -1.5363,  -5.0427],\n",
      "        [  9.4065,  -0.6864,  24.4799,  21.8952,  -6.1751,  -2.3546, -19.8118,\n",
      "          24.3161,  10.9719,  -2.2590],\n",
      "        [ -4.2386,   9.4909,  12.9240,  12.6486, -16.7841,   6.4884, -23.7786,\n",
      "          22.1504,   5.6992, -15.1288],\n",
      "        [  7.4113,  10.8415,  36.0079,  23.6610,  -0.2248, -11.2774, -20.0403,\n",
      "          24.6152, -10.3172,  -4.5597],\n",
      "        [  2.6945,   3.2294,  29.7022,  15.3533,  -6.8483,  -3.8169, -19.0316,\n",
      "          14.2713,  -7.5048,   0.8994],\n",
      "        [ 15.0245,  -6.1924,  21.7486,  13.2769,   3.3301,  -4.8711, -24.6741,\n",
      "          23.6091,  -0.3090,  -3.5415],\n",
      "        [ 10.6351,   4.5873,  32.4424,  14.3366,   4.4491, -12.4048, -22.8971,\n",
      "          13.5260, -16.2763,  -5.6607],\n",
      "        [  7.8861,   3.1968,  24.3679,  12.7791,   8.3089,   1.6822, -12.4428,\n",
      "          18.7753,  -1.2926,  -8.5950],\n",
      "        [ -3.3476,   1.4834,  16.4040,  16.2328,  -2.3510,   6.6546, -18.5248,\n",
      "          26.9326,   0.7212,  -4.6408],\n",
      "        [  2.4279,  10.1598,  34.3949,  20.3901,   3.0588, -10.3751, -20.7578,\n",
      "          28.2012, -13.0670,  -6.9058],\n",
      "        [  1.1908,   7.4235,  16.4621,  20.2259,   1.2418, -13.2021, -20.3029,\n",
      "          29.9145,  -1.6761,  -7.3235],\n",
      "        [ -8.3114,  15.3849,  28.2216,  14.9745,  -2.5880,  -6.0758, -21.6733,\n",
      "          20.8820,  -3.6874, -16.6676],\n",
      "        [  6.1759,   4.0881,  26.8273,   9.4589,   0.2948,  -1.4428, -16.1552,\n",
      "          10.2698,   3.7163, -10.6134],\n",
      "        [ 11.8300,   2.7846,  31.5094,  18.3379,  -4.0336,  -2.0969, -16.6900,\n",
      "           4.5292,   1.3838, -11.0471],\n",
      "        [  3.9473,  10.3223,  27.9159,  12.4239,   3.0977,  -8.6635,  -8.2465,\n",
      "          22.1090,  -7.0878, -12.1105],\n",
      "        [ -0.2883,   6.7005,  26.2740,  11.4354,   1.2692,  -2.5020, -14.8672,\n",
      "          29.9805, -15.7175,   3.8531],\n",
      "        [  0.5901,   6.6555,  29.0635,  19.7930,  -4.2951, -10.3174, -18.8592,\n",
      "          20.8054,  -8.8308, -13.9304]])\n"
     ]
    }
   ],
   "source": [
    "## Your solution\n",
    "def activation(x):\n",
    "    \"\"\" Sigmoid activation function \n",
    "    \n",
    "        Arguments\n",
    "        ---------\n",
    "        x: torch.Tensor\n",
    "    \"\"\"\n",
    "    return 1/(1+torch.exp(-x))\n",
    "\n",
    "inputs = images.view(images.shape[0], -1)\n",
    "\n",
    "# weights \n",
    "w1 = torch.randn((784, 256))\n",
    "b1 = torch.rand((256))\n",
    "\n",
    "w2 = torch.randn((256, 10))\n",
    "b2 = torch.rand((10))\n",
    "\n",
    "h = activation(torch.mm(inputs, w1) + b1)\n",
    "out = torch.mm(h, w2) + b2\n",
    "print(f'out shape : {out.shape}')\n",
    "print(out)\n",
    "\n",
    "# out = # output of your network, should have shape (64,10)"
   ]
  },
  {
   "cell_type": "markdown",
   "metadata": {},
   "source": [
    "Now we have 10 outputs for our network. We want to pass in an image to our network and get out a probability distribution over the classes that tells us the likely class(es) the image belongs to. Something that looks like this:\n",
    "<img src='assets/image_distribution.png' width=500px>\n",
    "\n",
    "Here we see that the probability for each class is roughly the same. This is representing an untrained network, it hasn't seen any data yet so it just returns a uniform distribution with equal probabilities for each class.\n",
    "\n",
    "To calculate this probability distribution, we often use the [**softmax** function](https://en.wikipedia.org/wiki/Softmax_function). Mathematically this looks like\n",
    "\n",
    "$$\n",
    "\\Large \\sigma(x_i) = \\cfrac{e^{x_i}}{\\sum_k^K{e^{x_k}}}\n",
    "$$\n",
    "\n",
    "What this does is squish each input $x_i$ between 0 and 1 and normalizes the values to give you a proper probability distribution where the probabilites sum up to one.\n",
    "\n",
    "> **Exercise:** Implement a function `softmax` that performs the softmax calculation and returns probability distributions for each example in the batch. Note that you'll need to pay attention to the shapes when doing this. If you have a tensor `a` with shape `(64, 10)` and a tensor `b` with shape `(64,)`, doing `a/b` will give you an error because PyTorch will try to do the division across the columns (called broadcasting) but you'll get a size mismatch. The way to think about this is for each of the 64 examples, you only want to divide by one value, the sum in the denominator. So you need `b` to have a shape of `(64, 1)`. This way PyTorch will divide the 10 values in each row of `a` by the one value in each row of `b`. Pay attention to how you take the sum as well. You'll need to define the `dim` keyword in `torch.sum`. Setting `dim=0` takes the sum across the rows while `dim=1` takes the sum across the columns."
   ]
  },
  {
   "cell_type": "code",
   "execution_count": 16,
   "metadata": {},
   "outputs": [
    {
     "name": "stdout",
     "output_type": "stream",
     "text": [
      "torch.Size([64, 10])\n",
      "per_example.shape torch.Size([64])\n",
      "per_example.view(64,1).shape torch.Size([64, 1])\n",
      "torch.Size([64, 10])\n",
      "tensor([5.6243e+02, 4.9219e+06, 1.4117e-01, 5.3311e+05, 5.8838e+08, 1.7905e+02,\n",
      "        1.6752e+03, 4.5075e+05, 3.2705e+06, 8.2054e+06, 5.0522e+04, 1.1279e+11,\n",
      "        9.2797e+04, 3.0519e+02, 5.2044e+03, 5.0050e+01, 1.5668e+04, 3.8048e+03,\n",
      "        2.5811e+03, 1.3834e+00, 1.7928e+04, 2.7591e+06, 8.4612e+06, 9.9846e+03,\n",
      "        1.2974e-01, 2.0276e-01, 2.1662e+07, 2.6666e+04, 7.8288e+04, 2.0987e+00,\n",
      "        3.7022e+11, 2.1158e+02, 1.5836e+03, 6.2467e+04, 3.0802e+02, 9.3780e+04,\n",
      "        1.7393e+07, 2.4776e+02, 1.9893e+06, 1.8200e+06, 4.0360e+05, 2.2509e+08,\n",
      "        2.0783e+02, 6.5027e+02, 5.5899e+03, 2.7499e+00, 2.0196e+02, 1.6469e-02,\n",
      "        2.0493e+02, 1.9611e-01, 8.6016e+06, 4.3072e+04, 3.9844e-01, 1.3960e+04,\n",
      "        1.4841e+05, 4.4823e+03, 8.3789e+05, 1.4926e+04, 6.9388e+02, 4.2969e+04,\n",
      "        2.7192e+06, 6.9253e+06, 1.1230e+06, 2.6829e+04])\n"
     ]
    }
   ],
   "source": [
    "def softmax(x):\n",
    "    ## TODO: Implement the softmax function here\n",
    "    print(x.shape)\n",
    "    per_example = torch.sum(torch.exp(x), dim = 1)\n",
    "    print(f'per_example.shape {per_example.shape}')\n",
    "    print(f'per_example.view(64,1).shape {per_example.view(64,1).shape}')\n",
    "    \n",
    "    return torch.exp(x)/ per_example.view(64,1)\n",
    "\n",
    "# Here, out should be the output of the network in the previous excercise with shape (64,10)\n",
    "probabilities = softmax(out)\n",
    "\n",
    "# Does it have the right shape? Should be (64, 10)\n",
    "print(probabilities.shape)\n",
    "# Does it sum to 1?\n",
    "print(probabilities.sum(dim=1))\n",
    "\n",
    "\n",
    "## Solution\n",
    "def softmax(x):\n",
    "    return torch.exp(x)/torch.sum(torch.exp(x), dim=1).view(-1, 1)\n",
    "\n",
    "probabilities = softmax(out)\n",
    "\n",
    "# Does it have the right shape? Should be (64, 10)\n",
    "print(probabilities.shape)\n",
    "# Does it sum to 1?\n",
    "print(probabilities.sum(dim=1))"
   ]
  },
  {
   "cell_type": "markdown",
   "metadata": {},
   "source": [
    "## Building networks with PyTorch\n",
    "\n",
    "PyTorch provides a module `nn` that makes building networks much simpler. Here I'll show you how to build the same one as above with 784 inputs, 256 hidden units, 10 output units and a softmax output."
   ]
  },
  {
   "cell_type": "code",
   "execution_count": 2,
   "metadata": {},
   "outputs": [],
   "source": [
    "from torch import nn"
   ]
  },
  {
   "cell_type": "code",
   "execution_count": 3,
   "metadata": {},
   "outputs": [],
   "source": [
    "class Network(nn.Module):\n",
    "    def __init__(self):\n",
    "        super().__init__()\n",
    "        \n",
    "        # Inputs to hidden layer linear transformation\n",
    "        self.hidden = nn.Linear(784, 256)\n",
    "        # Output layer, 10 units - one for each digit\n",
    "        self.output = nn.Linear(256, 10)\n",
    "        \n",
    "        # Define sigmoid activation and softmax output \n",
    "        self.sigmoid = nn.Sigmoid()\n",
    "        self.softmax = nn.Softmax(dim=1)\n",
    "        \n",
    "    def forward(self, x):\n",
    "        # Pass the input tensor through each of our operations\n",
    "        x = self.hidden(x)\n",
    "        x = self.sigmoid(x)\n",
    "        x = self.output(x)\n",
    "        x = self.softmax(x)\n",
    "        \n",
    "        return x"
   ]
  },
  {
   "cell_type": "markdown",
   "metadata": {},
   "source": [
    "Let's go through this bit by bit.\n",
    "\n",
    "```python\n",
    "class Network(nn.Module):\n",
    "```\n",
    "\n",
    "Here we're inheriting from `nn.Module`. Combined with `super().__init__()` this creates a class that tracks the architecture and provides a lot of useful methods and attributes. It is mandatory to inherit from `nn.Module` when you're creating a class for your network. The name of the class itself can be anything.\n",
    "\n",
    "```python\n",
    "self.hidden = nn.Linear(784, 256)\n",
    "```\n",
    "\n",
    "This line creates a module for a linear transformation, $x\\mathbf{W} + b$, with 784 inputs and 256 outputs and assigns it to `self.hidden`. The module automatically creates the weight and bias tensors which we'll use in the `forward` method. You can access the weight and bias tensors once the network (`net`) is created with `net.hidden.weight` and `net.hidden.bias`.\n",
    "\n",
    "```python\n",
    "self.output = nn.Linear(256, 10)\n",
    "```\n",
    "\n",
    "Similarly, this creates another linear transformation with 256 inputs and 10 outputs.\n",
    "\n",
    "```python\n",
    "self.sigmoid = nn.Sigmoid()\n",
    "self.softmax = nn.Softmax(dim=1)\n",
    "```\n",
    "\n",
    "Here I defined operations for the sigmoid activation and softmax output. Setting `dim=1` in `nn.Softmax(dim=1)` calculates softmax across the columns.\n",
    "\n",
    "```python\n",
    "def forward(self, x):\n",
    "```\n",
    "\n",
    "PyTorch networks created with `nn.Module` must have a `forward` method defined. It takes in a tensor `x` and passes it through the operations you defined in the `__init__` method.\n",
    "\n",
    "```python\n",
    "x = self.hidden(x)\n",
    "x = self.sigmoid(x)\n",
    "x = self.output(x)\n",
    "x = self.softmax(x)\n",
    "```\n",
    "\n",
    "Here the input tensor `x` is passed through each operation and reassigned to `x`. We can see that the input tensor goes through the hidden layer, then a sigmoid function, then the output layer, and finally the softmax function. It doesn't matter what you name the variables here, as long as the inputs and outputs of the operations match the network architecture you want to build. The order in which you define things in the `__init__` method doesn't matter, but you'll need to sequence the operations correctly in the `forward` method.\n",
    "\n",
    "Now we can create a `Network` object."
   ]
  },
  {
   "cell_type": "code",
   "execution_count": 4,
   "metadata": {},
   "outputs": [
    {
     "data": {
      "text/plain": [
       "Network(\n",
       "  (hidden): Linear(in_features=784, out_features=256, bias=True)\n",
       "  (output): Linear(in_features=256, out_features=10, bias=True)\n",
       "  (sigmoid): Sigmoid()\n",
       "  (softmax): Softmax()\n",
       ")"
      ]
     },
     "execution_count": 4,
     "metadata": {},
     "output_type": "execute_result"
    }
   ],
   "source": [
    "# Create the network and look at it's text representation\n",
    "model = Network()\n",
    "model"
   ]
  },
  {
   "cell_type": "markdown",
   "metadata": {},
   "source": [
    "You can define the network somewhat more concisely and clearly using the `torch.nn.functional` module. This is the most common way you'll see networks defined as many operations are simple element-wise functions. We normally import this module as `F`, `import torch.nn.functional as F`."
   ]
  },
  {
   "cell_type": "code",
   "execution_count": 32,
   "metadata": {},
   "outputs": [
    {
     "data": {
      "text/plain": [
       "Network(\n",
       "  (hidden): Linear(in_features=784, out_features=256, bias=True)\n",
       "  (output): Linear(in_features=256, out_features=10, bias=True)\n",
       ")"
      ]
     },
     "execution_count": 32,
     "metadata": {},
     "output_type": "execute_result"
    }
   ],
   "source": [
    "import torch.nn.functional as F\n",
    "\n",
    "class Network(nn.Module):\n",
    "    def __init__(self):\n",
    "        super().__init__()\n",
    "        # Inputs to hidden layer linear transformation\n",
    "        self.hidden = nn.Linear(784, 256)\n",
    "        # Output layer, 10 units - one for each digit\n",
    "        self.output = nn.Linear(256, 10)\n",
    "        \n",
    "    def forward(self, x):\n",
    "        # Hidden layer with sigmoid activation\n",
    "        x = F.sigmoid(self.hidden(x))\n",
    "        # Output layer with softmax activation\n",
    "        x = F.softmax(self.output(x), dim=1)\n",
    "        \n",
    "        return x\n",
    "    \n",
    "test = Network()\n",
    "test"
   ]
  },
  {
   "cell_type": "markdown",
   "metadata": {},
   "source": [
    "### Activation functions\n",
    "\n",
    "So far we've only been looking at the sigmoid activation function, but in general any function can be used as an activation function. The only requirement is that for a network to approximate a non-linear function, the activation functions must be non-linear. Here are a few more examples of common activation functions: Tanh (hyperbolic tangent), and ReLU (rectified linear unit).\n",
    "\n",
    "<img src=\"assets/activation.png\" width=700px>\n",
    "\n",
    "In practice, the ReLU function is used almost exclusively as the activation function for hidden layers."
   ]
  },
  {
   "cell_type": "markdown",
   "metadata": {},
   "source": [
    "### Your Turn to Build a Network\n",
    "\n",
    "<img src=\"assets/mlp_mnist.png\" width=600px>\n",
    "\n",
    "> **Exercise:** Create a network with 784 input units, a hidden layer with 128 units and a ReLU activation, then a hidden layer with 64 units and a ReLU activation, and finally an output layer with a softmax activation as shown above. You can use a ReLU activation with the `nn.ReLU` module or `F.relu` function.\n",
    "\n",
    "It's good practice to name your layers by their type of network, for instance 'fc' to represent a fully-connected layer. As you code your solution, use `fc1`, `fc2`, and `fc3` as your layer names."
   ]
  },
  {
   "cell_type": "code",
   "execution_count": 33,
   "metadata": {
    "scrolled": true
   },
   "outputs": [
    {
     "data": {
      "text/plain": [
       "Network1(\n",
       "  (fc1): Linear(in_features=784, out_features=128, bias=True)\n",
       "  (fc2): Linear(in_features=128, out_features=64, bias=True)\n",
       "  (fc3): Linear(in_features=64, out_features=10, bias=True)\n",
       "  (act1): ReLU()\n",
       "  (act2): ReLU()\n",
       "  (act3): Softmax()\n",
       ")"
      ]
     },
     "execution_count": 33,
     "metadata": {},
     "output_type": "execute_result"
    }
   ],
   "source": [
    "## Your solution here\n",
    "from torch import nn\n",
    "import torch.nn.functional as F\n",
    "\n",
    "class Network1(nn.Module):\n",
    "    def __init__(self):\n",
    "        super().__init__()\n",
    "        \n",
    "        # Layers\n",
    "        self.fc1 = nn.Linear(784, 128)\n",
    "        self.fc2 = nn.Linear(128, 64)\n",
    "        self.fc3 = nn.Linear(64, 10)\n",
    "        \n",
    "        # Define Activation\n",
    "        self.act1 = nn.ReLU()\n",
    "        self.act2 = nn.ReLU()\n",
    "        self.act3 = nn.Softmax(dim=1)\n",
    "        \n",
    "    def forward(self, x):\n",
    "        # Pass the input tensor through each of our operations\n",
    "        x = self.fc1(x)\n",
    "        x = self.act1(x)\n",
    "        x = self.fc2(x)\n",
    "        x = self.act2(x)\n",
    "        x = self.fc3(x)\n",
    "        x = self.act3(x)\n",
    "        \n",
    "        return x\n",
    "\n",
    "# Create the network and look at it's text representation\n",
    "model1 = Network1()\n",
    "model1"
   ]
  },
  {
   "cell_type": "code",
   "execution_count": 34,
   "metadata": {},
   "outputs": [
    {
     "data": {
      "text/plain": [
       "Network2(\n",
       "  (fc1): Linear(in_features=784, out_features=128, bias=True)\n",
       "  (fc2): Linear(in_features=128, out_features=64, bias=True)\n",
       "  (fc3): Linear(in_features=64, out_features=10, bias=True)\n",
       ")"
      ]
     },
     "execution_count": 34,
     "metadata": {},
     "output_type": "execute_result"
    }
   ],
   "source": [
    "from torch import nn\n",
    "import torch.nn.functional as F\n",
    "\n",
    "class Network2(nn.Module):\n",
    "    def __init__(self):\n",
    "        super().__init__()\n",
    "        \n",
    "        # Layers\n",
    "        self.fc1 = nn.Linear(784, 128)\n",
    "        self.fc2 = nn.Linear(128, 64)\n",
    "        self.fc3 = nn.Linear(64, 10)\n",
    "        \n",
    "    def foward(self, x):\n",
    "        x = F.relu(self.fc1(x))\n",
    "        x = F.relu(self.fc1(x))\n",
    "        x = F.softmax(self.fc1(x), dim = 1)\n",
    "        return x\n",
    "    \n",
    "model2 = Network2()\n",
    "model2"
   ]
  },
  {
   "cell_type": "markdown",
   "metadata": {},
   "source": [
    "### Initializing weights and biases\n",
    "\n",
    "The weights and such are automatically initialized for you, but it's possible to customize how they are initialized. The weights and biases are tensors attached to the layer you defined, you can get them with `model.fc1.weight` for instance."
   ]
  },
  {
   "cell_type": "code",
   "execution_count": 35,
   "metadata": {},
   "outputs": [
    {
     "name": "stdout",
     "output_type": "stream",
     "text": [
      "Parameter containing:\n",
      "tensor([[ 0.0188,  0.0094,  0.0065,  ...,  0.0097,  0.0337,  0.0130],\n",
      "        [ 0.0323,  0.0105, -0.0060,  ..., -0.0230,  0.0327,  0.0291],\n",
      "        [ 0.0000,  0.0122, -0.0034,  ...,  0.0096,  0.0237,  0.0301],\n",
      "        ...,\n",
      "        [-0.0351,  0.0055, -0.0314,  ..., -0.0186, -0.0300, -0.0139],\n",
      "        [-0.0302,  0.0088,  0.0042,  ..., -0.0318, -0.0059, -0.0222],\n",
      "        [-0.0121,  0.0182, -0.0209,  ..., -0.0188,  0.0044,  0.0014]],\n",
      "       requires_grad=True)\n",
      "Parameter containing:\n",
      "tensor([-0.0037,  0.0120,  0.0266,  0.0095, -0.0129,  0.0132,  0.0082, -0.0237,\n",
      "        -0.0096, -0.0123, -0.0319, -0.0041, -0.0204,  0.0118, -0.0201, -0.0057,\n",
      "        -0.0022, -0.0213, -0.0138, -0.0119, -0.0081,  0.0021, -0.0042, -0.0091,\n",
      "        -0.0331, -0.0348, -0.0105, -0.0346,  0.0154, -0.0314,  0.0310, -0.0117,\n",
      "        -0.0309, -0.0175,  0.0256, -0.0006,  0.0156, -0.0305,  0.0233, -0.0071,\n",
      "         0.0053,  0.0347,  0.0111, -0.0337, -0.0095,  0.0077,  0.0137, -0.0130,\n",
      "        -0.0093,  0.0055,  0.0125,  0.0286,  0.0056,  0.0251,  0.0017, -0.0082,\n",
      "        -0.0188, -0.0239, -0.0126,  0.0229, -0.0345, -0.0049, -0.0191, -0.0058,\n",
      "        -0.0214, -0.0310,  0.0041, -0.0019, -0.0096, -0.0133, -0.0289, -0.0159,\n",
      "        -0.0256, -0.0069, -0.0199,  0.0029, -0.0142,  0.0103, -0.0104,  0.0092,\n",
      "        -0.0148,  0.0357, -0.0008,  0.0115, -0.0029, -0.0127, -0.0031,  0.0266,\n",
      "        -0.0167, -0.0201, -0.0330,  0.0227, -0.0078, -0.0229, -0.0111,  0.0301,\n",
      "        -0.0162,  0.0133,  0.0170,  0.0182, -0.0226, -0.0026,  0.0305, -0.0140,\n",
      "         0.0231,  0.0032,  0.0024, -0.0323,  0.0330, -0.0328, -0.0117,  0.0094,\n",
      "        -0.0070,  0.0102, -0.0169,  0.0211, -0.0037, -0.0164, -0.0275,  0.0006,\n",
      "        -0.0006,  0.0225, -0.0144, -0.0149,  0.0149,  0.0304, -0.0296,  0.0041],\n",
      "       requires_grad=True)\n"
     ]
    }
   ],
   "source": [
    "print(model1.fc1.weight)\n",
    "print(model1.fc1.bias)"
   ]
  },
  {
   "cell_type": "markdown",
   "metadata": {},
   "source": [
    "For custom initialization, we want to modify these tensors in place. These are actually autograd *Variables*, so we need to get back the actual tensors with `model.fc1.weight.data`. Once we have the tensors, we can fill them with zeros (for biases) or random normal values."
   ]
  },
  {
   "cell_type": "code",
   "execution_count": 30,
   "metadata": {},
   "outputs": [
    {
     "data": {
      "text/plain": [
       "tensor([0., 0., 0., 0., 0., 0., 0., 0., 0., 0., 0., 0., 0., 0., 0., 0., 0., 0.,\n",
       "        0., 0., 0., 0., 0., 0., 0., 0., 0., 0., 0., 0., 0., 0., 0., 0., 0., 0.,\n",
       "        0., 0., 0., 0., 0., 0., 0., 0., 0., 0., 0., 0., 0., 0., 0., 0., 0., 0.,\n",
       "        0., 0., 0., 0., 0., 0., 0., 0., 0., 0., 0., 0., 0., 0., 0., 0., 0., 0.,\n",
       "        0., 0., 0., 0., 0., 0., 0., 0., 0., 0., 0., 0., 0., 0., 0., 0., 0., 0.,\n",
       "        0., 0., 0., 0., 0., 0., 0., 0., 0., 0., 0., 0., 0., 0., 0., 0., 0., 0.,\n",
       "        0., 0., 0., 0., 0., 0., 0., 0., 0., 0., 0., 0., 0., 0., 0., 0., 0., 0.,\n",
       "        0., 0.])"
      ]
     },
     "execution_count": 30,
     "metadata": {},
     "output_type": "execute_result"
    }
   ],
   "source": [
    "# Set biases to all zeros\n",
    "model1.fc1.bias.data.fill_(0)"
   ]
  },
  {
   "cell_type": "code",
   "execution_count": 36,
   "metadata": {},
   "outputs": [
    {
     "data": {
      "text/plain": [
       "tensor([[ 0.0020, -0.0102, -0.0098,  ...,  0.0067, -0.0155,  0.0023],\n",
       "        [-0.0160,  0.0037, -0.0001,  ..., -0.0028,  0.0019,  0.0013],\n",
       "        [ 0.0008, -0.0013, -0.0066,  ...,  0.0061, -0.0209,  0.0006],\n",
       "        ...,\n",
       "        [-0.0050, -0.0020, -0.0003,  ...,  0.0164,  0.0139, -0.0112],\n",
       "        [ 0.0099,  0.0073,  0.0092,  ...,  0.0076, -0.0075,  0.0002],\n",
       "        [-0.0044, -0.0009,  0.0066,  ..., -0.0123, -0.0110,  0.0020]])"
      ]
     },
     "execution_count": 36,
     "metadata": {},
     "output_type": "execute_result"
    }
   ],
   "source": [
    "# sample from random normal with standard dev = 0.01\n",
    "model1.fc1.weight.data.normal_(std=0.01)"
   ]
  },
  {
   "cell_type": "markdown",
   "metadata": {},
   "source": [
    "### Forward pass\n",
    "\n",
    "Now that we have a network, let's see what happens when we pass in an image."
   ]
  },
  {
   "cell_type": "code",
   "execution_count": 37,
   "metadata": {},
   "outputs": [
    {
     "data": {
      "image/png": "[encoded data removed]",
      "text/plain": [
       "<Figure size 432x648 with 2 Axes>"
      ]
     },
     "metadata": {
      "image/png": {
       "height": 226,
       "width": 423
      },
      "needs_background": "light"
     },
     "output_type": "display_data"
    }
   ],
   "source": [
    "# Grab some data \n",
    "dataiter = iter(trainloader)\n",
    "images, labels = dataiter.next()\n",
    "\n",
    "# Resize images into a 1D vector, new shape is (batch size, color channels, image pixels) \n",
    "images.resize_(64, 1, 784)\n",
    "# or images.resize_(images.shape[0], 1, 784) to automatically get batch size\n",
    "\n",
    "# Forward pass through the network\n",
    "img_idx = 0\n",
    "ps = model1.forward(images[img_idx,:])\n",
    "\n",
    "img = images[img_idx]\n",
    "helper.view_classify(img.view(1, 28, 28), ps)"
   ]
  },
  {
   "cell_type": "markdown",
   "metadata": {},
   "source": [
    "As you can see above, our network has basically no idea what this digit is. It's because we haven't trained it yet, all the weights are random!\n",
    "\n",
    "### Using `nn.Sequential`\n",
    "\n",
    "PyTorch provides a convenient way to build networks like this where a tensor is passed sequentially through operations, `nn.Sequential` ([documentation](https://pytorch.org/docs/master/nn.html#torch.nn.Sequential)). Using this to build the equivalent network:"
   ]
  },
  {
   "cell_type": "code",
   "execution_count": 38,
   "metadata": {},
   "outputs": [
    {
     "name": "stdout",
     "output_type": "stream",
     "text": [
      "Sequential(\n",
      "  (0): Linear(in_features=784, out_features=128, bias=True)\n",
      "  (1): ReLU()\n",
      "  (2): Linear(in_features=128, out_features=64, bias=True)\n",
      "  (3): ReLU()\n",
      "  (4): Linear(in_features=64, out_features=10, bias=True)\n",
      "  (5): Softmax()\n",
      ")\n"
     ]
    },
    {
     "data": {
      "image/png": "[encoded data removed]",
      "text/plain": [
       "<Figure size 432x648 with 2 Axes>"
      ]
     },
     "metadata": {
      "image/png": {
       "height": 226,
       "width": 423
      },
      "needs_background": "light"
     },
     "output_type": "display_data"
    }
   ],
   "source": [
    "# Hyperparameters for our network\n",
    "input_size = 784\n",
    "hidden_sizes = [128, 64]\n",
    "output_size = 10\n",
    "\n",
    "# Build a feed-forward network\n",
    "model = nn.Sequential(nn.Linear(input_size, hidden_sizes[0]),\n",
    "                      nn.ReLU(),\n",
    "                      nn.Linear(hidden_sizes[0], hidden_sizes[1]),\n",
    "                      nn.ReLU(),\n",
    "                      nn.Linear(hidden_sizes[1], output_size),\n",
    "                      nn.Softmax(dim=1))\n",
    "print(model)\n",
    "\n",
    "# Forward pass through the network and display output\n",
    "images, labels = next(iter(trainloader))\n",
    "images.resize_(images.shape[0], 1, 784)\n",
    "ps = model.forward(images[0,:])\n",
    "helper.view_classify(images[0].view(1, 28, 28), ps)"
   ]
  },
  {
   "cell_type": "markdown",
   "metadata": {},
   "source": [
    "Here our model is the same as before: 784 input units, a hidden layer with 128 units, ReLU activation, 64 unit hidden layer, another ReLU, then the output layer with 10 units, and the softmax output.\n",
    "\n",
    "The operations are available by passing in the appropriate index. For example, if you want to get first Linear operation and look at the weights, you'd use `model[0]`."
   ]
  },
  {
   "cell_type": "code",
   "execution_count": 39,
   "metadata": {},
   "outputs": [
    {
     "name": "stdout",
     "output_type": "stream",
     "text": [
      "Linear(in_features=784, out_features=128, bias=True)\n"
     ]
    },
    {
     "data": {
      "text/plain": [
       "Parameter containing:\n",
       "tensor([[ 0.0088,  0.0069,  0.0022,  ...,  0.0221,  0.0120,  0.0216],\n",
       "        [ 0.0273, -0.0284, -0.0005,  ...,  0.0068,  0.0345,  0.0271],\n",
       "        [-0.0194, -0.0287, -0.0132,  ..., -0.0263,  0.0161,  0.0114],\n",
       "        ...,\n",
       "        [ 0.0105, -0.0216, -0.0278,  ..., -0.0179,  0.0091,  0.0318],\n",
       "        [-0.0067, -0.0020, -0.0225,  ..., -0.0062, -0.0304,  0.0267],\n",
       "        [-0.0354, -0.0027, -0.0122,  ..., -0.0216,  0.0200,  0.0309]],\n",
       "       requires_grad=True)"
      ]
     },
     "execution_count": 39,
     "metadata": {},
     "output_type": "execute_result"
    }
   ],
   "source": [
    "print(model[0])\n",
    "model[0].weight"
   ]
  },
  {
   "cell_type": "markdown",
   "metadata": {},
   "source": [
    "You can also pass in an `OrderedDict` to name the individual layers and operations, instead of using incremental integers. Note that dictionary keys must be unique, so _each operation must have a different name_."
   ]
  },
  {
   "cell_type": "code",
   "execution_count": 40,
   "metadata": {},
   "outputs": [
    {
     "data": {
      "text/plain": [
       "Sequential(\n",
       "  (fc1): Linear(in_features=784, out_features=128, bias=True)\n",
       "  (relu1): ReLU()\n",
       "  (fc2): Linear(in_features=128, out_features=64, bias=True)\n",
       "  (relu2): ReLU()\n",
       "  (output): Linear(in_features=64, out_features=10, bias=True)\n",
       "  (softmax): Softmax()\n",
       ")"
      ]
     },
     "execution_count": 40,
     "metadata": {},
     "output_type": "execute_result"
    }
   ],
   "source": [
    "from collections import OrderedDict\n",
    "model = nn.Sequential(OrderedDict([\n",
    "                      ('fc1', nn.Linear(input_size, hidden_sizes[0])),\n",
    "                      ('relu1', nn.ReLU()),\n",
    "                      ('fc2', nn.Linear(hidden_sizes[0], hidden_sizes[1])),\n",
    "                      ('relu2', nn.ReLU()),\n",
    "                      ('output', nn.Linear(hidden_sizes[1], output_size)),\n",
    "                      ('softmax', nn.Softmax(dim=1))]))\n",
    "model"
   ]
  },
  {
   "cell_type": "markdown",
   "metadata": {},
   "source": [
    "Now you can access layers either by integer or the name"
   ]
  },
  {
   "cell_type": "code",
   "execution_count": 41,
   "metadata": {},
   "outputs": [
    {
     "name": "stdout",
     "output_type": "stream",
     "text": [
      "Linear(in_features=784, out_features=128, bias=True)\n",
      "Linear(in_features=784, out_features=128, bias=True)\n"
     ]
    }
   ],
   "source": [
    "print(model[0])\n",
    "print(model.fc1)"
   ]
  },
  {
   "cell_type": "code",
   "execution_count": 56,
   "metadata": {},
   "outputs": [
    {
     "name": "stdout",
     "output_type": "stream",
     "text": [
      "model3 : Sequential(\n",
      "  (fc1): Linear(in_features=784, out_features=128, bias=True)\n",
      "  (relu1): ReLU()\n",
      "  (fc2): Linear(in_features=128, out_features=64, bias=True)\n",
      "  (relu2): ReLU()\n",
      "  (output): Linear(in_features=64, out_features=10, bias=True)\n",
      "  (softmax): Softmax()\n",
      ")\n",
      "model3.fc1.weight.shape : torch.Size([128, 784])\n",
      "model3.fc1.bias.shape : torch.Size([128])\n",
      "bias : Parameter containing:\n",
      "tensor([ 0.0191,  0.0158, -0.0203, -0.0276, -0.0148,  0.0086,  0.0016, -0.0063,\n",
      "         0.0073, -0.0059,  0.0121, -0.0335,  0.0106, -0.0342, -0.0187,  0.0339,\n",
      "         0.0050, -0.0091, -0.0079, -0.0018, -0.0110, -0.0276, -0.0168,  0.0266,\n",
      "         0.0357, -0.0047, -0.0277,  0.0072, -0.0094,  0.0170,  0.0307,  0.0233,\n",
      "         0.0029, -0.0353,  0.0209, -0.0234, -0.0216, -0.0030, -0.0127,  0.0239,\n",
      "        -0.0249,  0.0356,  0.0314,  0.0014, -0.0062, -0.0223, -0.0194,  0.0247,\n",
      "         0.0349,  0.0073,  0.0194,  0.0220,  0.0303, -0.0216,  0.0327,  0.0018,\n",
      "         0.0159, -0.0045,  0.0222,  0.0298, -0.0324, -0.0057,  0.0333, -0.0150,\n",
      "        -0.0099,  0.0203, -0.0296, -0.0234,  0.0046, -0.0136, -0.0213,  0.0024,\n",
      "        -0.0294, -0.0160,  0.0087, -0.0064,  0.0144, -0.0122, -0.0104,  0.0351,\n",
      "        -0.0313, -0.0299,  0.0031, -0.0014,  0.0100, -0.0111, -0.0091, -0.0111,\n",
      "         0.0063,  0.0149, -0.0300, -0.0098, -0.0131, -0.0166, -0.0123, -0.0341,\n",
      "         0.0246, -0.0154, -0.0092,  0.0213, -0.0231,  0.0054, -0.0199, -0.0183,\n",
      "         0.0238,  0.0192,  0.0112, -0.0109,  0.0122, -0.0172,  0.0180, -0.0209,\n",
      "        -0.0055,  0.0264,  0.0274, -0.0289, -0.0214,  0.0027, -0.0300, -0.0084,\n",
      "        -0.0181, -0.0002,  0.0220, -0.0165,  0.0199, -0.0049,  0.0334,  0.0136],\n",
      "       requires_grad=True)\n",
      "model3.fc1.weight : Parameter containing:\n",
      "tensor([[ 0.0339, -0.0268, -0.0123,  ...,  0.0108, -0.0142,  0.0109],\n",
      "        [-0.0168, -0.0136,  0.0059,  ...,  0.0061, -0.0105, -0.0205],\n",
      "        [-0.0302,  0.0228,  0.0103,  ..., -0.0317,  0.0269, -0.0330],\n",
      "        ...,\n",
      "        [-0.0076, -0.0303,  0.0067,  ...,  0.0202, -0.0355, -0.0206],\n",
      "        [ 0.0079,  0.0085, -0.0024,  ...,  0.0054, -0.0186,  0.0159],\n",
      "        [ 0.0184, -0.0279,  0.0008,  ...,  0.0017, -0.0108, -0.0158]],\n",
      "       requires_grad=True)\n",
      "model3.fc1.weight.shape : torch.Size([128, 784])\n",
      "model3.fc1.bias.shape : torch.Size([128])\n",
      "bias : Parameter containing:\n",
      "tensor([0., 0., 0., 0., 0., 0., 0., 0., 0., 0., 0., 0., 0., 0., 0., 0., 0., 0.,\n",
      "        0., 0., 0., 0., 0., 0., 0., 0., 0., 0., 0., 0., 0., 0., 0., 0., 0., 0.,\n",
      "        0., 0., 0., 0., 0., 0., 0., 0., 0., 0., 0., 0., 0., 0., 0., 0., 0., 0.,\n",
      "        0., 0., 0., 0., 0., 0., 0., 0., 0., 0., 0., 0., 0., 0., 0., 0., 0., 0.,\n",
      "        0., 0., 0., 0., 0., 0., 0., 0., 0., 0., 0., 0., 0., 0., 0., 0., 0., 0.,\n",
      "        0., 0., 0., 0., 0., 0., 0., 0., 0., 0., 0., 0., 0., 0., 0., 0., 0., 0.,\n",
      "        0., 0., 0., 0., 0., 0., 0., 0., 0., 0., 0., 0., 0., 0., 0., 0., 0., 0.,\n",
      "        0., 0.], requires_grad=True)\n",
      "model3.fc1.weight : Parameter containing:\n",
      "tensor([[ 0.0123, -0.0102,  0.0085,  ...,  0.0065,  0.0166,  0.0097],\n",
      "        [ 0.0245, -0.0037,  0.0110,  ...,  0.0038,  0.0077, -0.0069],\n",
      "        [ 0.0007, -0.0066,  0.0036,  ...,  0.0026, -0.0107,  0.0104],\n",
      "        ...,\n",
      "        [-0.0015, -0.0060, -0.0115,  ...,  0.0014,  0.0124, -0.0017],\n",
      "        [-0.0112,  0.0050, -0.0033,  ..., -0.0016,  0.0109,  0.0094],\n",
      "        [ 0.0067,  0.0084, -0.0023,  ..., -0.0160,  0.0016,  0.0061]],\n",
      "       requires_grad=True)\n"
     ]
    }
   ],
   "source": [
    "from torch import nn\n",
    "from collections import OrderedDict\n",
    "import torch.nn.functional as F\n",
    "\n",
    "input_size = 784\n",
    "hidden_sizes = [128, 64]\n",
    "output_size = 10\n",
    "\n",
    "# Sequential\n",
    "\n",
    "model3 = nn.Sequential(OrderedDict([\n",
    "    ('fc1', nn.Linear(input_size, hidden_sizes[0])),\n",
    "    ('relu1', nn.ReLU()),\n",
    "    ('fc2', nn.Linear(hidden_sizes[0], hidden_sizes[1])),\n",
    "    ('relu2', nn.ReLU()),\n",
    "    ('output', nn.Linear(hidden_sizes[1], output_size)),\n",
    "    ('softmax', nn.Softmax(dim=1))]))\n",
    "\n",
    "print(f'model3 : {model3}')\n",
    "print(f'model3.fc1.weight.shape : {model3.fc1.weight.shape}')\n",
    "print(f'model3.fc1.bias.shape : {model3.fc1.bias.shape}')\n",
    "\n",
    "print(f'bias : {model3.fc1.bias}')\n",
    "print(f'model3.fc1.weight : {model3.fc1.weight}')\n",
    "\n",
    "# Set biases to all zeros\n",
    "model3.fc1.bias.data.fill_(0)\n",
    "# sample from random normal with standard dev = 0.01\n",
    "model3.fc1.weight.data.normal_(std=0.01)\n",
    "\n",
    "print(f'model3.fc1.weight.shape : {model3.fc1.weight.shape}')\n",
    "print(f'model3.fc1.bias.shape : {model3.fc1.bias.shape}')\n",
    "\n",
    "print(f'bias : {model3.fc1.bias}')\n",
    "print(f'model3.fc1.weight : {model3.fc1.weight}')"
   ]
  },
  {
   "cell_type": "markdown",
   "metadata": {},
   "source": [
    "In the next notebook, we'll see how we can train a neural network to accuractly predict the numbers appearing in the MNIST images."
   ]
  }
 ],
 "metadata": {
  "kernelspec": {
   "display_name": "Python 3",
   "language": "python",
   "name": "python3"
  },
  "language_info": {
   "codemirror_mode": {
    "name": "ipython",
    "version": 3
   },
   "file_extension": ".py",
   "mimetype": "text/x-python",
   "name": "python",
   "nbconvert_exporter": "python",
   "pygments_lexer": "ipython3",
   "version": "3.6.8"
  }
 },
 "nbformat": 4,
 "nbformat_minor": 2
}
